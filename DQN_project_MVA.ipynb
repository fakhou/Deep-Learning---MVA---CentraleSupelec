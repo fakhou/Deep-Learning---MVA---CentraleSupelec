{
 "cells": [
  {
   "cell_type": "markdown",
   "metadata": {},
   "source": [
    "**You may need to install [OpenCV](https://pypi.python.org/pypi/opencv-python) and [scikit-video](http://www.scikit-video.org/stable/).**"
   ]
  },
  {
   "cell_type": "code",
   "execution_count": 1,
   "metadata": {},
   "outputs": [
    {
     "name": "stderr",
     "output_type": "stream",
     "text": [
      "/home/ali/anaconda3/lib/python3.6/site-packages/h5py/__init__.py:36: FutureWarning: Conversion of the second argument of issubdtype from `float` to `np.floating` is deprecated. In future, it will be treated as `np.float64 == np.dtype(float).type`.\n",
      "  from ._conv import register_converters as _register_converters\n",
      "Using TensorFlow backend.\n"
     ]
    }
   ],
   "source": [
    "import keras\n",
    "import numpy as np\n",
    "import io\n",
    "import base64\n",
    "from IPython.display import HTML\n",
    "import skvideo.io\n",
    "import cv2\n",
    "import json\n",
    "\n",
    "from keras.models import Sequential, model_from_json\n",
    "from keras.layers.core import Dense\n",
    "from keras.optimizers import sgd\n",
    "from keras.layers import Flatten\n",
    "from keras.layers import Conv2D, MaxPooling2D, Dropout, Activation, AveragePooling2D,Reshape,BatchNormalization"
   ]
  },
  {
   "cell_type": "markdown",
   "metadata": {},
   "source": [
    "# MiniProject #3: Deep Reinforcement Learning"
   ]
  },
  {
   "cell_type": "markdown",
   "metadata": {},
   "source": [
    "__Notations__: $E_p$ is the expectation under probability $p$. Please justify each of your answer and widely comment your code."
   ]
  },
  {
   "cell_type": "markdown",
   "metadata": {},
   "source": [
    "# Context"
   ]
  },
  {
   "cell_type": "markdown",
   "metadata": {},
   "source": [
    "In a reinforcement learning algorithm, we modelize each step $t$ as an action $a_t$ obtained from a state $s_t$, i.e. $\\{(a_{t},s_{t})_{t\\leq T}\\}$ having the Markov property. We consider a discount factor $\\gamma \\in [0,1]$ that ensures convergence. The goal is to find among all the policies $\\pi$, one that maximizes the expected reward:\n",
    "\n",
    "\\begin{equation*}\n",
    "R(\\pi)=\\sum_{t\\leq T}E_{p^{\\pi}}[\\gamma^t r(s_{t},a_{t})] \\> ,\n",
    "\\end{equation*}\n",
    "\n",
    "where: \n",
    "\\begin{equation*}p^{\\pi}(a_{0},a_{1},s_{1},...,a_{T},s_{T})=p(a_{0})\\prod_{t=1}^{T}\\pi(a_{t}|s_{t})p(s_{t+1}|s_{t},a_{t}) \\> .\n",
    "\\end{equation*}\n",
    "\n",
    "We note the $Q$-function:\n",
    "\n",
    "\\begin{equation*}Q^\\pi(s,a)=E_{p^{\\pi}}[\\sum_{t\\leq T}\\gamma^{t}r(s_{t},a_{t})|s_{0}=s,a_{0}=a] \\> .\n",
    "\\end{equation*}\n",
    "\n",
    "Thus, the optimal Q function is:\n",
    "\\begin{equation*}\n",
    "Q^*(s,a)=\\max_{\\pi}Q^\\pi(s,a) \\> .\n",
    "\\end{equation*}\n",
    "\n",
    "In this project, we will apply the deep reinforcement learning techniques to a simple game: an agent will have to learn from scratch a policy that will permit it maximizing a reward."
   ]
  },
  {
   "cell_type": "markdown",
   "metadata": {},
   "source": [
    "## The environment, the agent and the game"
   ]
  },
  {
   "cell_type": "markdown",
   "metadata": {},
   "source": [
    "### The environment"
   ]
  },
  {
   "cell_type": "markdown",
   "metadata": {},
   "source": [
    "```Environment``` is an abstract class that represents the states, rewards, and actions to obtain the new state."
   ]
  },
  {
   "cell_type": "code",
   "execution_count": 2,
   "metadata": {},
   "outputs": [],
   "source": [
    "class Environment(object):\n",
    "    def __init__(self):\n",
    "        pass\n",
    "\n",
    "    def act(self, act):\n",
    "        \"\"\"\n",
    "        One can act on the environment and obtain its reaction:\n",
    "        - the new state\n",
    "        - the reward of the new state\n",
    "        - should we continue the game?\n",
    "\n",
    "        :return: state, reward, game_over\n",
    "        \"\"\"\n",
    "        pass\n",
    "\n",
    "\n",
    "    def reset(self):\n",
    "        \"\"\"\n",
    "        Reinitialize the environment to a random state and returns\n",
    "        the original state\n",
    "\n",
    "        :return: state\n",
    "        \"\"\"\n",
    "        pass\n",
    "    \n",
    "    def draw(self):\n",
    "        \"\"\"\n",
    "        Visualize in the console or graphically the current state\n",
    "        \"\"\"\n",
    "        pass"
   ]
  },
  {
   "cell_type": "markdown",
   "metadata": {},
   "source": [
    "The method ```act``` allows to act on the environment at a given state $s_t$ (stored internally), via action $a_t$. The method will return the new state $s_{t+1}$, the reward $r(s_{t},a_{t})$ and determines if $t\\leq T$ (*game_over*).\n",
    "\n",
    "The method ```reset``` simply reinitializes the environment to a random state $s_0$.\n",
    "\n",
    "The method ```draw``` displays the current state $s_t$ (this is useful to check the behavior of the Agent).\n",
    "\n",
    "We modelize $s_t$ as a tensor, while $a_t$ is an integer."
   ]
  },
  {
   "cell_type": "markdown",
   "metadata": {},
   "source": [
    "### The Agent"
   ]
  },
  {
   "cell_type": "markdown",
   "metadata": {},
   "source": [
    "The goal of the ```Agent``` is to interact with the ```Environment``` by proposing actions $a_t$ obtained from a given state $s_t$ to attempt to maximize its __reward__ $r(s_t,a_t)$. We propose the following abstract class:"
   ]
  },
  {
   "cell_type": "code",
   "execution_count": 3,
   "metadata": {},
   "outputs": [],
   "source": [
    "class Agent(object):\n",
    "    def __init__(self, epsilon=0.1, n_action=4):\n",
    "        self.epsilon = epsilon\n",
    "        self.n_action = n_action\n",
    "    \n",
    "    def set_epsilon(self,e):\n",
    "        self.epsilon = e\n",
    "\n",
    "    def act(self,s,train=True):\n",
    "        \"\"\" This function should return the next action to do:\n",
    "        an integer between 0 and 4 (not included) with a random exploration of epsilon\"\"\"\n",
    "        if train:\n",
    "            if np.random.rand() <= self.epsilon:\n",
    "                a = np.random.randint(0, self.n_action, size=1)[0]\n",
    "            else:\n",
    "                a = self.learned_act(s)\n",
    "        else: # in some cases, this can improve the performance.. remove it if poor performances\n",
    "            a = self.learned_act(s)\n",
    "\n",
    "        return a\n",
    "\n",
    "    def learned_act(self,s):\n",
    "        \"\"\" Act via the policy of the agent, from a given state s\n",
    "        it proposes an action a\"\"\"\n",
    "        pass\n",
    "\n",
    "    def reinforce(self, s, n_s, a, r, game_over_):\n",
    "        \"\"\" This function is the core of the learning algorithm. \n",
    "        It takes as an input the current state s_, the next state n_s_\n",
    "        the action a_ used to move from s_ to n_s_ and the reward r_.\n",
    "        \n",
    "        Its goal is to learn a policy.\n",
    "        \"\"\"\n",
    "        pass\n",
    "\n",
    "    def save(self):\n",
    "        \"\"\" This function returns basic stats if applicable: the\n",
    "        loss and/or the model\"\"\"\n",
    "        pass\n",
    "\n",
    "    def load(self):\n",
    "        \"\"\" This function allows to restore a model\"\"\"\n",
    "        pass"
   ]
  },
  {
   "cell_type": "markdown",
   "metadata": {},
   "source": [
    "***\n",
    "__Question 1__:\n",
    "Explain the function act. Why is ```epsilon``` essential?"
   ]
  },
  {
   "cell_type": "markdown",
   "metadata": {},
   "source": [
    "the function act chose randomly between a random action with probability $\\epsilon$, or the best action drawn from the current policy with probability $1 - \\epsilon$ to return.\n",
    "\n",
    "\n",
    "The parameter $\\epsilon$ is essential to add exploration of other reward in our model."
   ]
  },
  {
   "cell_type": "markdown",
   "metadata": {},
   "source": [
    "***\n",
    "### The Game"
   ]
  },
  {
   "cell_type": "markdown",
   "metadata": {},
   "source": [
    "The ```Agent``` and the ```Environment``` work in an interlaced way as in the following (take some time to understand this code as it is the core of the project)\n",
    "\n",
    "```python\n",
    "\n",
    "epoch = 300\n",
    "env = Environment()\n",
    "agent = Agent()\n",
    "\n",
    "\n",
    "# Number of won games\n",
    "score = 0\n",
    "loss = 0\n",
    "\n",
    "\n",
    "for e in range(epoch):\n",
    "    # At each epoch, we restart to a fresh game and get the initial state\n",
    "    state = env.reset()\n",
    "    # This assumes that the games will end\n",
    "    game_over = False\n",
    "\n",
    "    win = 0\n",
    "    lose = 0\n",
    "    \n",
    "    while not game_over:\n",
    "        # The agent performs an action\n",
    "        action = agent.act(state)\n",
    "\n",
    "        # Apply an action to the environment, get the next state, the reward\n",
    "        # and if the games end\n",
    "        prev_state = state\n",
    "        state, reward, game_over = env.act(action)\n",
    "\n",
    "        # Update the counters\n",
    "        if reward > 0:\n",
    "            win = win + reward\n",
    "        if reward < 0:\n",
    "            lose = lose -reward\n",
    "\n",
    "        # Apply the reinforcement strategy\n",
    "        loss = agent.reinforce(prev_state, state,  action, reward, game_over)\n",
    "\n",
    "    # Save as a mp4\n",
    "    if e % 10 == 0:\n",
    "        env.draw(e)\n",
    "\n",
    "    # Update stats\n",
    "    score += win-lose\n",
    "\n",
    "    print(\"Epoch {:03d}/{:03d} | Loss {:.4f} | Win/lose count {}/{} ({})\"\n",
    "          .format(e, epoch, loss, win, lose, win-lose))\n",
    "    agent.save()\n",
    "```"
   ]
  },
  {
   "cell_type": "markdown",
   "metadata": {},
   "source": [
    "# The game, *eat cheese*"
   ]
  },
  {
   "cell_type": "markdown",
   "metadata": {},
   "source": [
    "A rat runs on an island and tries to eat as much as possible. The island is subdivided into $N\\times N$ cells, in which there are cheese (+0.5) and poisonous cells (-1). The rat has a visibility of 2 cells (thus it can see $5^2$ cells). The rat is given a time $T$ to accumulate as much food as possible. It can perform 4 actions: going up, down, left, right. \n",
    "\n",
    "The goal is to code an agent to solve this task that will learn by trial and error. We propose the following environment:"
   ]
  },
  {
   "cell_type": "code",
   "execution_count": 4,
   "metadata": {},
   "outputs": [],
   "source": [
    "class Environment(object):\n",
    "    def __init__(self, grid_size=10, max_time=500, temperature=0.1):\n",
    "        grid_size = grid_size+4\n",
    "        self.grid_size = grid_size\n",
    "        self.max_time = max_time\n",
    "        self.temperature = temperature\n",
    "\n",
    "        #board on which one plays\n",
    "        self.board = np.zeros((grid_size,grid_size))\n",
    "        self.position = np.zeros((grid_size,grid_size))\n",
    "\n",
    "        # coordinate of the cat\n",
    "        self.x = 0\n",
    "        self.y = 1\n",
    "\n",
    "        # self time\n",
    "        self.t = 0\n",
    "\n",
    "        self.scale=16\n",
    "\n",
    "        self.to_draw = np.zeros((max_time+2, grid_size*self.scale, grid_size*self.scale, 3))\n",
    "\n",
    "\n",
    "    def draw(self,e):\n",
    "        skvideo.io.vwrite(str(e) + '.mp4', self.to_draw)\n",
    "\n",
    "    def get_frame(self,t):\n",
    "        b = np.zeros((self.grid_size,self.grid_size,3))+128\n",
    "        b[self.board>0,0] = 256\n",
    "        b[self.board < 0, 2] = 256\n",
    "        b[self.x,self.y,:]=256\n",
    "        b[-2:,:,:]=0\n",
    "        b[:,-2:,:]=0\n",
    "        b[:2,:,:]=0\n",
    "        b[:,:2,:]=0\n",
    "        \n",
    "        b =  cv2.resize(b, None, fx=self.scale, fy=self.scale, interpolation=cv2.INTER_NEAREST)\n",
    "\n",
    "        self.to_draw[t,:,:,:]=b\n",
    "\n",
    "\n",
    "    def act(self, action):\n",
    "        \"\"\"This function returns the new state, reward and decides if the\n",
    "        game ends.\"\"\"\n",
    "\n",
    "        self.get_frame(int(self.t))\n",
    "\n",
    "        self.position = np.zeros((self.grid_size, self.grid_size))\n",
    "\n",
    "        self.position[0:2,:]= -1\n",
    "        self.position[:,0:2] = -1\n",
    "        self.position[-2:, :] = -1\n",
    "        self.position[:, -2:] = -1\n",
    "\n",
    "        self.position[self.x, self.y] = 1\n",
    "        if action == 0:\n",
    "            if self.x == self.grid_size-3:\n",
    "                self.x = self.x-1\n",
    "            else:\n",
    "                self.x = self.x + 1\n",
    "        elif action == 1:\n",
    "            if self.x == 2:\n",
    "                self.x = self.x+1\n",
    "            else:\n",
    "                self.x = self.x-1\n",
    "        elif action == 2:\n",
    "            if self.y == self.grid_size - 3:\n",
    "                self.y = self.y - 1\n",
    "            else:\n",
    "                self.y = self.y + 1\n",
    "        elif action == 3:\n",
    "            if self.y == 2:\n",
    "                self.y = self.y + 1\n",
    "            else:\n",
    "                self.y = self.y - 1\n",
    "        else:\n",
    "            RuntimeError('Error: action not recognized')\n",
    "\n",
    "        self.t = self.t + 1\n",
    "        reward = self.board[self.x, self.y]\n",
    "        self.board[self.x, self.y] = 0\n",
    "        game_over = self.t > self.max_time\n",
    "        state = np.concatenate((self.board.reshape(self.grid_size, self.grid_size,1),\n",
    "                        self.position.reshape(self.grid_size, self.grid_size,1)),axis=2)\n",
    "        state = state[self.x-2:self.x+3,self.y-2:self.y+3,:]\n",
    "\n",
    "        return state, reward, game_over\n",
    "\n",
    "    def reset(self):\n",
    "        \"\"\"This function resets the game and returns the initial state\"\"\"\n",
    "\n",
    "        self.x = np.random.randint(3, self.grid_size-3, size=1)[0]\n",
    "        self.y = np.random.randint(3, self.grid_size-3, size=1)[0]\n",
    "\n",
    "\n",
    "        bonus = 0.5*np.random.binomial(1,self.temperature,size=self.grid_size**2)\n",
    "        bonus = bonus.reshape(self.grid_size,self.grid_size)\n",
    "\n",
    "        malus = -1.0*np.random.binomial(1,self.temperature,size=self.grid_size**2)\n",
    "        malus = malus.reshape(self.grid_size, self.grid_size)\n",
    "\n",
    "        self.to_draw = np.zeros((self.max_time+2, self.grid_size*self.scale, self.grid_size*self.scale, 3))\n",
    "\n",
    "\n",
    "        malus[bonus>0]=0\n",
    "\n",
    "        self.board = bonus + malus\n",
    "\n",
    "        self.position = np.zeros((self.grid_size, self.grid_size))\n",
    "        self.position[0:2,:]= -1\n",
    "        self.position[:,0:2] = -1\n",
    "        self.position[-2:, :] = -1\n",
    "        self.position[:, -2:] = -1\n",
    "        self.board[self.x,self.y] = 0\n",
    "        self.t = 0\n",
    "\n",
    "        state = np.concatenate((\n",
    "                               self.board.reshape(self.grid_size, self.grid_size,1),\n",
    "                        self.position.reshape(self.grid_size, self.grid_size,1)),axis=2)\n",
    "\n",
    "        state = state[self.x - 2:self.x + 3, self.y - 2:self.y + 3, :]\n",
    "        return state"
   ]
  },
  {
   "cell_type": "markdown",
   "metadata": {},
   "source": [
    "The following elements are important because they correspond to the hyper parameters for this project:"
   ]
  },
  {
   "cell_type": "code",
   "execution_count": 18,
   "metadata": {},
   "outputs": [],
   "source": [
    "# parameters\n",
    "size = 13\n",
    "T=200\n",
    "temperature=0.5\n",
    "epochs_train=30 # set small when debugging\n",
    "epochs_test=10 # set small when debugging\n",
    "\n",
    "# display videos\n",
    "def display_videos(name):\n",
    "    video = io.open(name, 'r+b').read()\n",
    "    encoded = base64.b64encode(video)\n",
    "    return '''<video alt=\"test\" controls>\n",
    "                <source src=\"data:video/mp4;base64,{0}\" type=\"video/mp4\" />\n",
    "             </video>'''.format(encoded.decode('ascii'))"
   ]
  },
  {
   "cell_type": "markdown",
   "metadata": {},
   "source": [
    "__Question 2__ Explain the use of the arrays ```position``` and ```board```."
   ]
  },
  {
   "cell_type": "markdown",
   "metadata": {},
   "source": [
    "Array position store the state $s_t$(position at time t).\n",
    "\n",
    "Array board store the rewards estimate at time t drawn from the current policy"
   ]
  },
  {
   "cell_type": "markdown",
   "metadata": {},
   "source": [
    "## Random Agent"
   ]
  },
  {
   "cell_type": "markdown",
   "metadata": {},
   "source": [
    "***\n",
    "__Question 3__ Implement a random Agent (only ```learned_act``` needs to be implemented):"
   ]
  },
  {
   "cell_type": "code",
   "execution_count": 6,
   "metadata": {},
   "outputs": [],
   "source": [
    "class RandomAgent(Agent):\n",
    "    def __init__(self):\n",
    "        super(RandomAgent, self).__init__()\n",
    "        pass\n",
    "\n",
    "    def learned_act(self, s):\n",
    "        return np.random.randint(0, self.n_action)"
   ]
  },
  {
   "cell_type": "markdown",
   "metadata": {},
   "source": [
    "***\n",
    "***\n",
    "__Question 4__ Visualize the game moves. You need to fill in the following function for the evaluation:"
   ]
  },
  {
   "cell_type": "code",
   "execution_count": 7,
   "metadata": {},
   "outputs": [],
   "source": [
    "def test(agent,env,epochs,prefix=''):\n",
    "    # Number of won games\n",
    "    score = 0\n",
    "        \n",
    "    for e in range(epochs):\n",
    "        # To assume that the games will end\n",
    "        Play = True\n",
    "        # At each epoch, we restart to a fresh game and get the initial state\n",
    "        state = env.reset()\n",
    "        \n",
    "        win = 0\n",
    "        lose = 0\n",
    "        \n",
    "        while Play:\n",
    "            # The agent chosses an action\n",
    "            next_action = agent.learned_act(state)\n",
    "            # Apply this action to the environment\n",
    "            # than get the next state and the reward\n",
    "            # and if the games end\n",
    "            last = state\n",
    "            state, reward, game_over = env.act(next_action)\n",
    "            Play = not game_over\n",
    "            # Update the counters\n",
    "            if reward > 0:\n",
    "                win = win + reward\n",
    "            if reward < 0:\n",
    "                lose = lose -reward\n",
    "            # Apply the reinforcement strategy\n",
    "            loss = agent.reinforce(last, state,  next_action, reward, game_over)\n",
    "        # Save as a mp4\n",
    "        env.draw(prefix+str(e))\n",
    "\n",
    "        # Update stats\n",
    "        score = score + win-lose\n",
    "\n",
    "        print(\"Win/lose count {}/{}. Average score ({})\"\n",
    "              .format(win, lose, score/(1+e)))\n",
    "    print('Final score: '+str(score/epochs))"
   ]
  },
  {
   "cell_type": "code",
   "execution_count": 19,
   "metadata": {},
   "outputs": [
    {
     "name": "stdout",
     "output_type": "stream",
     "text": [
      "Win/lose count 17.5/22.0. Average score (-4.5)\n",
      "Win/lose count 18.5/19.0. Average score (-2.5)\n",
      "Win/lose count 17.5/21.0. Average score (-2.8333333333333335)\n",
      "Win/lose count 16.0/11.0. Average score (-0.875)\n",
      "Win/lose count 13.0/19.0. Average score (-1.9)\n",
      "Win/lose count 17.5/19.0. Average score (-1.8333333333333333)\n",
      "Win/lose count 19.0/20.0. Average score (-1.7142857142857142)\n",
      "Win/lose count 19.0/18.0. Average score (-1.375)\n",
      "Win/lose count 11.5/9.0. Average score (-0.9444444444444444)\n",
      "Win/lose count 11.5/14.0. Average score (-1.1)\n",
      "Final score: -1.1\n"
     ]
    },
    {
     "data": {
      "text/html": [
       "<video alt=\"test\" controls>\n",
       "                <source src=\"data:video/mp4;base64,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\" type=\"video/mp4\" />\n",
       "             </video>"
      ],
      "text/plain": [
       "<IPython.core.display.HTML object>"
      ]
     },
     "execution_count": 19,
     "metadata": {},
     "output_type": "execute_result"
    }
   ],
   "source": [
    "# Initialize the game\n",
    "env = Environment(grid_size=size, max_time=T,temperature=temperature)\n",
    "\n",
    "# Initialize the agent!\n",
    "agent = RandomAgent()\n",
    "\n",
    "test(agent,env,epochs_test,prefix='random')\n",
    "HTML(display_videos('random0.mp4'))"
   ]
  },
  {
   "cell_type": "markdown",
   "metadata": {},
   "source": [
    "***\n",
    "## DQN"
   ]
  },
  {
   "cell_type": "markdown",
   "metadata": {},
   "source": [
    "Let us assume here that $T=\\infty$.\n",
    "\n",
    "***\n",
    "__Question 5__ Let $\\pi$ be a policy, show that:\n",
    "\n",
    "\\begin{equation*}\n",
    "Q^{\\pi}(s,a)=E_{(s',a')\\sim p(.|s,a)}[r(s,a)+\\gamma Q^{\\pi}(s',a')]\n",
    "\\end{equation*}\n",
    "\n",
    "Then, show that for the optimal policy $\\pi^*$ (we assume its existence), the following holds: \n",
    "\n",
    "\\begin{equation*}\n",
    "Q^{*}(s,a)=E_{s'\\sim \\pi^*(.|s,a)}[r(s,a)+\\gamma\\max_{a'}Q^{*}(s',a')].\n",
    "\\end{equation*}\n",
    "Finally, deduce that a plausible objective is:\n",
    "\n",
    "\\begin{equation*}\n",
    "\\mathcal{L}(\\theta)=E_{s' \\sim \\pi^*(.|s,a)}\\Vert r+\\gamma\\max\\max_{a'}Q(s',a',\\theta)-Q(s,a,\\theta)\\Vert^{2}.\n",
    "\\end{equation*}\n",
    "\n",
    "\n"
   ]
  },
  {
   "cell_type": "markdown",
   "metadata": {},
   "source": [
    "\n",
    "Let $\\pi(.|s)$ denote the policy distribution, and $p(.|s,a)$ the transition probability distribution of states. The distribution of the couple $(s',a')$ given $(s,a)$ is given by :\n",
    "\\begin{equation*}\n",
    "p(s',a'|s,a) = \\pi(a'|s)p(s'|s,a)\n",
    "\\end{equation*}\n",
    "the $Q$ function is expressed as:\n",
    "\n",
    "\\begin{align*}\n",
    "Q^\\pi(s,a) &= E_{p^{\\pi}}[\\sum_{t = 0}^{\\infty}\\gamma^{t}r(s_{t},a_{t})|s_{0}=s,a_{0}=a] \\\\\n",
    "&= r(s,a) + \\gamma E_{p^{\\pi}}[\\sum_{t = 0}^{\\infty}\\gamma^{t}r(s_{t+1},a_{t+1})|s_{0}=s,a_{0}=a] \\\\\n",
    "&= r(s,a) + \\gamma \\sum_{(s',a')} \\mathbb{P}(s_1 = s'|s_0 = s, a_0=a) \\pi(a_0 = a'|s_0=s) E_{p^{\\pi}}[\\sum_{t = 0}^{\\infty}\\gamma^{t}r(s_{t},a_{t})|s_{0}=s',a_{0}=a'] \\\\\n",
    "&= r(s,a) + \\gamma \\sum_{(s',a')} p(s',a'|s,a) Q^{\\pi}(s',a') \\\\\n",
    "&= r(s,a) + \\gamma E_{(s',a')\\sim p(.|s,a)}[Q^{\\pi}(s',a')] \\\\\n",
    "&= E_{(s',a')\\sim p(.|s,a)}[r(s,a)+\\gamma Q^{\\pi}(s',a')]\n",
    "\\end{align*}\n",
    "\n",
    "\n",
    "\n",
    "We now derive the expression of $Q^*$:\n",
    "\n",
    "\\begin{align*}\n",
    "Q^*(s,a) &= \\max_{\\pi} Q^{\\pi}(s,a) \\\\\n",
    "&= \\max_{\\pi} E_{(s',a')\\sim p(.|s,a)}[r(s,a)+\\gamma Q^{\\pi}(s',a')] \\\\\n",
    "&= E_{s' \\sim p(.|s, \\pi^*(s|a))}[r(s,a) + \\gamma \\max_{a'} Q^*(s',a') ]\n",
    "\\end{align*}\n",
    "\n",
    "\n",
    "\n"
   ]
  },
  {
   "cell_type": "markdown",
   "metadata": {},
   "source": [
    "***\n",
    "The DQN-learning algorithm relies on these derivations to train the parameters $\\theta$ of a Deep Neural Network:\n",
    "\n",
    "1. At the state $s_t$, select the action $a_t$ with best reward using $Q_t$ and store the results;\n",
    "\n",
    "2. Obtain the new state $s_{t+1}$ from the environment $p$;\n",
    "\n",
    "3. Store $(s_t,a_t,s_{t+1})$;\n",
    "\n",
    "4. Obtain $Q_{t+1}$ by minimizing  $\\mathcal{L}$ from a recovered batch from the previously stored results.\n",
    "\n",
    "***\n",
    "__Question 6__ Implement the class ```Memory``` that stores moves (in a replay buffer) via ```remember``` and provides a ```random_access``` to these. Specify a maximum memory size to avoid side effects. You can for example use a ```list()``` and set by default ```max_memory=100```."
   ]
  },
  {
   "cell_type": "code",
   "execution_count": 11,
   "metadata": {},
   "outputs": [],
   "source": [
    "class Memory(object):\n",
    "    def __init__(self, max_memory=100):\n",
    "        self.max_memory = max_memory\n",
    "        self.memory = list()\n",
    "\n",
    "    def remember(self, m):\n",
    "        self.memory.append(m)\n",
    "        if len(self.memory)==self.max_memory:\n",
    "            self.memory.pop(0)\n",
    "            \n",
    "\n",
    "    def random_access(self):\n",
    "        index = np.random.choice(range(len(self.memory)))\n",
    "        return self.memory[index]"
   ]
  },
  {
   "cell_type": "markdown",
   "metadata": {},
   "source": [
    "***\n",
    "The pipeline we will use for training is given below:"
   ]
  },
  {
   "cell_type": "code",
   "execution_count": 12,
   "metadata": {},
   "outputs": [],
   "source": [
    "def train(agent,env,epoch,prefix=''):\n",
    "    # Number of won games\n",
    "    score = 0\n",
    "    loss = 0\n",
    "\n",
    "    for e in range(epoch):\n",
    "        # At each epoch, we restart to a fresh game and get the initial state\n",
    "        state = env.reset()\n",
    "        # This assumes that the games will terminate\n",
    "        game_over = False\n",
    "\n",
    "        win = 0\n",
    "        lose = 0\n",
    "\n",
    "        while not game_over:\n",
    "            # The agent performs an action\n",
    "            action = agent.act(state)\n",
    "\n",
    "            # Apply an action to the environment, get the next state, the reward\n",
    "            # and if the games end\n",
    "            prev_state = state\n",
    "            state, reward, game_over = env.act(action)\n",
    "\n",
    "            # Update the counters\n",
    "            if reward > 0:\n",
    "                win = win + reward\n",
    "            if reward < 0:\n",
    "                lose = lose -reward\n",
    "\n",
    "            # Apply the reinforcement strategy\n",
    "            loss = agent.reinforce(prev_state, state,  action, reward, game_over)\n",
    "\n",
    "        # Save as a mp4\n",
    "        if e % 10 == 0:\n",
    "            env.draw(prefix+str(e))\n",
    "\n",
    "        # Update stats\n",
    "        score += win-lose\n",
    "\n",
    "        print(\"Epoch {:03d}/{:03d} | Loss {:.4f} | Win/lose count {}/{} ({})\"\n",
    "              .format(e, epoch, loss, win, lose, win-lose))\n",
    "        agent.save(name_weights=prefix+'model.h5',name_model=prefix+'model.json')"
   ]
  },
  {
   "cell_type": "markdown",
   "metadata": {},
   "source": [
    "***\n",
    "__Question 7__ Implement the DQN training algorithm using a cascade of fully connected layers. You can use different learning rate, batch size or memory size parameters. In particular, the loss might oscillate while the player will start to win the games. You have to find a good criterium."
   ]
  },
  {
   "cell_type": "code",
   "execution_count": 13,
   "metadata": {},
   "outputs": [],
   "source": [
    "class DQN(Agent):\n",
    "    def __init__(self, grid_size,  epsilon = 0.1, memory_size=100, batch_size = 16,n_state=2):\n",
    "        super(DQN, self).__init__(epsilon = epsilon)\n",
    "\n",
    "        # Discount for Q learning\n",
    "        self.discount = 0.99\n",
    "        \n",
    "        self.grid_size = grid_size\n",
    "        \n",
    "        # number of state\n",
    "        self.n_state = n_state\n",
    "\n",
    "        # Memory\n",
    "        self.memory = Memory(memory_size)\n",
    "        \n",
    "        # Batch size when learning\n",
    "        self.batch_size = batch_size\n",
    "\n",
    "    def learned_act(self, s):\n",
    "        return np.argmax(self.model.predict(s.reshape([1] + list(s.shape))))\n",
    "\n",
    "    def reinforce(self, s_, n_s_, a_, r_, game_over_):\n",
    "        # Two steps: first memorize the states, second learn from the pool\n",
    "\n",
    "        self.memory.remember([s_, n_s_, a_, r_, game_over_])\n",
    "        \n",
    "        input_states = np.zeros((self.batch_size, 5,5,self.n_state))\n",
    "        target_q = np.zeros((self.batch_size, 4))\n",
    "        shape_state = [1] + list(s_.shape)\n",
    "        \n",
    "        for i in range(self.batch_size):\n",
    "            [state, next_state, action, reward, game_over] = self.memory.random_access()\n",
    "            \n",
    "            target_q[i] = self.model.predict(state.reshape(shape_state))\n",
    "            \n",
    "            if game_over:\n",
    "                target_q[i, action] = reward\n",
    "            else:\n",
    "                target_q[i, action] = reward + self.discount * self.model.predict(\n",
    "                    next_state.reshape(shape_state)).max()\n",
    "            input_states[i] = state\n",
    "        # HINT: Clip the target to avoid exploiding gradients.. -- clipping is a bit tighter\n",
    "        target_q = np.clip(target_q, -3, 3)\n",
    "\n",
    "        l = self.model.train_on_batch(input_states, target_q)\n",
    "\n",
    "\n",
    "        return l\n",
    "\n",
    "    def save(self,name_weights='model.h5',name_model='model.json'):\n",
    "        self.model.save_weights(name_weights, overwrite=True)\n",
    "        with open(name_model, \"w\") as outfile:\n",
    "            json.dump(self.model.to_json(), outfile)\n",
    "            \n",
    "    def load(self,name_weights='model.h5',name_model='model.json'):\n",
    "        with open(name_model, \"r\") as jfile:\n",
    "            model = model_from_json(json.load(jfile))\n",
    "        model.load_weights(name_weights)\n",
    "        model.compile(\"sgd\", \"mse\")\n",
    "        self.model = model\n",
    "\n",
    "            \n",
    "class DQN_FC(DQN):\n",
    "    def __init__(self, *args, lr=0.1, input_shape=(5, 5, 2),**kwargs):\n",
    "        super(DQN_FC, self).__init__( *args,**kwargs)\n",
    "        \n",
    "        # NN Model\n",
    "        model=Sequential()\n",
    "        model.add(Flatten(input_shape=input_shape)) \n",
    "        model.add(Dense(32, activation='relu'))\n",
    "        model.add(Dropout(0.15))\n",
    "        model.add(Dense(16, activation='relu'))\n",
    "        model.add(Dropout(0.3))\n",
    "        model.add(Dense(4, activation='sigmoid'))\n",
    "        \n",
    "        model.compile(sgd(lr=lr, decay=1e-4, momentum=0.0), \"mse\")\n",
    "        self.model = model\n",
    "        "
   ]
  },
  {
   "cell_type": "code",
   "execution_count": 21,
   "metadata": {},
   "outputs": [
    {
     "name": "stdout",
     "output_type": "stream",
     "text": [
      "Epoch 000/030 | Loss 0.0212 | Win/lose count 6.0/3.0 (3.0)\n",
      "Epoch 001/030 | Loss 0.0224 | Win/lose count 14.0/18.0 (-4.0)\n",
      "Epoch 002/030 | Loss 0.0105 | Win/lose count 3.0/6.0 (-3.0)\n",
      "Epoch 003/030 | Loss 0.0085 | Win/lose count 4.5/4.0 (0.5)\n",
      "Epoch 004/030 | Loss 0.0255 | Win/lose count 6.5/6.0 (0.5)\n",
      "Epoch 005/030 | Loss 0.0103 | Win/lose count 8.0/5.0 (3.0)\n",
      "Epoch 006/030 | Loss 0.0139 | Win/lose count 8.0/9.0 (-1.0)\n",
      "Epoch 007/030 | Loss 0.0339 | Win/lose count 7.0/5.0 (2.0)\n",
      "Epoch 008/030 | Loss 0.0170 | Win/lose count 3.0/7.0 (-4.0)\n",
      "Epoch 009/030 | Loss 0.0070 | Win/lose count 3.5/1.0 (2.5)\n",
      "Epoch 010/030 | Loss 0.0136 | Win/lose count 9.0/7.0 (2.0)\n",
      "Epoch 011/030 | Loss 0.0211 | Win/lose count 6.0/4.0 (2.0)\n",
      "Epoch 012/030 | Loss 0.0182 | Win/lose count 4.5/5.0 (-0.5)\n",
      "Epoch 013/030 | Loss 0.0202 | Win/lose count 3.0/2.0 (1.0)\n",
      "Epoch 014/030 | Loss 0.0185 | Win/lose count 4.0/6.0 (-2.0)\n",
      "Epoch 015/030 | Loss 0.0236 | Win/lose count 5.0/1.0 (4.0)\n",
      "Epoch 016/030 | Loss 0.0050 | Win/lose count 8.0/4.0 (4.0)\n",
      "Epoch 017/030 | Loss 0.0027 | Win/lose count 5.0/8.0 (-3.0)\n",
      "Epoch 018/030 | Loss 0.0141 | Win/lose count 3.0/3.0 (0.0)\n",
      "Epoch 019/030 | Loss 0.0045 | Win/lose count 5.5/8.0 (-2.5)\n",
      "Epoch 020/030 | Loss 0.0204 | Win/lose count 5.5/6.0 (-0.5)\n",
      "Epoch 021/030 | Loss 0.0270 | Win/lose count 6.0/5.0 (1.0)\n",
      "Epoch 022/030 | Loss 0.0059 | Win/lose count 3.0/5.0 (-2.0)\n",
      "Epoch 023/030 | Loss 0.0047 | Win/lose count 4.5/3.0 (1.5)\n",
      "Epoch 024/030 | Loss 0.0120 | Win/lose count 2.5/5.0 (-2.5)\n",
      "Epoch 025/030 | Loss 0.0199 | Win/lose count 3.0/6.0 (-3.0)\n",
      "Epoch 026/030 | Loss 0.0122 | Win/lose count 3.0/5.0 (-2.0)\n",
      "Epoch 027/030 | Loss 0.0045 | Win/lose count 3.5/6.0 (-2.5)\n",
      "Epoch 028/030 | Loss 0.0023 | Win/lose count 5.5/4.0 (1.5)\n",
      "Epoch 029/030 | Loss 0.0020 | Win/lose count 4.5/10.0 (-5.5)\n"
     ]
    },
    {
     "data": {
      "text/html": [
       "<video alt=\"test\" controls>\n",
       "                <source src=\"data:video/mp4;base64,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\" type=\"video/mp4\" />\n",
       "             </video>"
      ],
      "text/plain": [
       "<IPython.core.display.HTML object>"
      ]
     },
     "execution_count": 21,
     "metadata": {},
     "output_type": "execute_result"
    }
   ],
   "source": [
    "env = Environment(grid_size=size, max_time=T, temperature=0.5)\n",
    "agent = DQN_FC(size, lr=.1, epsilon = 0.1, memory_size=2000, batch_size = 32)\n",
    "train(agent, env, epochs_train, prefix='fc_train')\n",
    "HTML(display_videos('fc_train10.mp4'))"
   ]
  },
  {
   "cell_type": "markdown",
   "metadata": {},
   "source": [
    "***\n",
    "***\n",
    "__Question 8__ Implement the DQN training algorithm using a CNN (for example, 2 convolutional layers and one final fully connected layer)."
   ]
  },
  {
   "cell_type": "code",
   "execution_count": 24,
   "metadata": {},
   "outputs": [],
   "source": [
    "class DQN_CNN(DQN):\n",
    "    def __init__(self, *args,lr=0.1, input_shape=(5,5,2), **kwargs):\n",
    "        super(DQN_CNN, self).__init__(*args,**kwargs)\n",
    "        \n",
    "        model=Sequential()\n",
    "        model.add(Conv2D(8,(2,2),activation=\"relu\",input_shape=input_shape,padding='same'))\n",
    "        model.add(Dropout(0.15))\n",
    "        model.add(MaxPooling2D(pool_size=(2, 2),padding='same'))\n",
    "        model.add(Conv2D(8,(2,2),activation=\"relu\",input_shape=input_shape,padding='same'))\n",
    "        model.add(Dropout(0.3))\n",
    "        model.add(MaxPooling2D(pool_size=(2, 2),padding='same'))\n",
    "        model.add(Flatten())\n",
    "        model.add(Dense(4,activation=\"sigmoid\"))\n",
    "        \n",
    "        model.compile(sgd(lr=lr, decay=1e-4, momentum=0.0), \"mse\")\n",
    "        self.model = model"
   ]
  },
  {
   "cell_type": "code",
   "execution_count": 25,
   "metadata": {},
   "outputs": [
    {
     "name": "stdout",
     "output_type": "stream",
     "text": [
      "Epoch 000/030 | Loss 0.0023 | Win/lose count 5.0/1.0 (4.0)\n",
      "Epoch 001/030 | Loss 0.0023 | Win/lose count 6.0/7.0 (-1.0)\n",
      "Epoch 002/030 | Loss 0.0137 | Win/lose count 3.0/5.0 (-2.0)\n",
      "Epoch 003/030 | Loss 0.0176 | Win/lose count 6.5/6.0 (0.5)\n",
      "Epoch 004/030 | Loss 0.0120 | Win/lose count 4.5/3.0 (1.5)\n",
      "Epoch 005/030 | Loss 0.0102 | Win/lose count 1.0/2.0 (-1.0)\n",
      "Epoch 006/030 | Loss 0.0099 | Win/lose count 7.5/4.0 (3.5)\n",
      "Epoch 007/030 | Loss 0.0002 | Win/lose count 8.5/3.0 (5.5)\n",
      "Epoch 008/030 | Loss 0.0078 | Win/lose count 5.5/3.0 (2.5)\n",
      "Epoch 009/030 | Loss 0.0047 | Win/lose count 5.5/5.0 (0.5)\n",
      "Epoch 010/030 | Loss 0.0124 | Win/lose count 8.0/3.0 (5.0)\n",
      "Epoch 011/030 | Loss 0.0040 | Win/lose count 6.5/4.0 (2.5)\n",
      "Epoch 012/030 | Loss 0.0278 | Win/lose count 6.5/6.0 (0.5)\n",
      "Epoch 013/030 | Loss 0.0020 | Win/lose count 2.5/1.0 (1.5)\n",
      "Epoch 014/030 | Loss 0.0039 | Win/lose count 6.5/3.0 (3.5)\n",
      "Epoch 015/030 | Loss 0.0020 | Win/lose count 5.0/4.0 (1.0)\n",
      "Epoch 016/030 | Loss 0.0095 | Win/lose count 3.5/4.0 (-0.5)\n",
      "Epoch 017/030 | Loss 0.0160 | Win/lose count 5.5/4.0 (1.5)\n",
      "Epoch 018/030 | Loss 0.0106 | Win/lose count 3.0/4.0 (-1.0)\n",
      "Epoch 019/030 | Loss 0.0170 | Win/lose count 5.0/3.0 (2.0)\n",
      "Epoch 020/030 | Loss 0.0100 | Win/lose count 4.5/1.0 (3.5)\n",
      "Epoch 021/030 | Loss 0.0078 | Win/lose count 4.0/4.0 (0.0)\n",
      "Epoch 022/030 | Loss 0.0039 | Win/lose count 4.0/7.0 (-3.0)\n",
      "Epoch 023/030 | Loss 0.0120 | Win/lose count 6.0/8.0 (-2.0)\n",
      "Epoch 024/030 | Loss 0.0177 | Win/lose count 4.5/8.0 (-3.5)\n",
      "Epoch 025/030 | Loss 0.0037 | Win/lose count 7.0/9.0 (-2.0)\n",
      "Epoch 026/030 | Loss 0.0178 | Win/lose count 12.0/12.0 (0.0)\n",
      "Epoch 027/030 | Loss 0.0096 | Win/lose count 6.5/3.0 (3.5)\n",
      "Epoch 028/030 | Loss 0.0098 | Win/lose count 9.5/6.0 (3.5)\n",
      "Epoch 029/030 | Loss 0.0351 | Win/lose count 3.5/5.0 (-1.5)\n"
     ]
    },
    {
     "data": {
      "text/html": [
       "<video alt=\"test\" controls>\n",
       "                <source src=\"data:video/mp4;base64,AAAAIGZ0eXBpc29tAAACAGlzb21pc28yYXZjMW1wNDEAAAAIZnJlZQAAFpVtZGF0AAACrQYF//+p3EXpvebZSLeWLNgg2SPu73gyNjQgLSBjb3JlIDE0OCByMjY0MyA1YzY1NzA0IC0gSC4yNjQvTVBFRy00IEFWQyBjb2RlYyAtIENvcHlsZWZ0IDIwMDMtMjAxNSAtIGh0dHA6Ly93d3cudmlkZW9sYW4ub3JnL3gyNjQuaHRtbCAtIG9wdGlvbnM6IGNhYmFjPTEgcmVmPTMgZGVibG9jaz0xOjA6MCBhbmFseXNlPTB4MzoweDExMyBtZT1oZXggc3VibWU9NyBwc3k9MSBwc3lfcmQ9MS4wMDowLjAwIG1peGVkX3JlZj0xIG1lX3JhbmdlPTE2IGNocm9tYV9tZT0xIHRyZWxsaXM9MSA4eDhkY3Q9MSBjcW09MCBkZWFkem9uZT0yMSwxMSBmYXN0X3Bza2lwPTEgY2hyb21hX3FwX29mZnNldD00IHRocmVhZHM9NiBsb29rYWhlYWRfdGhyZWFkcz0xIHNsaWNlZF90aHJlYWRzPTAgbnI9MCBkZWNpbWF0ZT0xIGludGVybGFjZWQ9MCBibHVyYXlfY29tcGF0PTAgY29uc3RyYWluZWRfaW50cmE9MCBiZnJhbWVzPTMgYl9weXJhbWlkPTIgYl9hZGFwdD0xIGJfYmlhcz0wIGRpcmVjdD0xIHdlaWdodGI9MSBvcGVuX2dvcD0wIHdlaWdodHA9MiBrZXlpbnQ9MjUwIGtleWludF9taW49MjUgc2NlbmVjdXQ9NDAgaW50cmFfcmVmcmVzaD0wIHJjX2xvb2thaGVhZD00MCByYz1jcmYgbWJ0cmVlPTEgY3JmPTIzLjAgcWNvbXA9MC42MCBxcG1pbj0wIHFwbWF4PTY5IHFwc3RlcD00IGlwX3JhdGlvPTEuNDAgYXE9MToxLjAwAIAAAALnZYiEADf//vaH+BTZWBO6f/0/4LrOnzl/nbABNNgBSG5gp/rE//5O6fMPwgPgUuAa/gU0mcEv/+IP+V36d9f1BwCkR4aiRJKVs+d6DTEO6ErRAqOXDKNLEKizo7T24YbVc0kfjDErGWIKPgKqSiylnRz66+M1q1bzeEmHFyhWS7JkPfF/5To2NgibPzVZE2nRmIWnqHVVea0cXqo7kFNMdvr7HX5Nsu0CWmNUjE01fI+A4YRktpDTS6V9w/55k/H++wY+03dQnDsZ3GuZhDJYuLifBJA2xLTDIHLOidB8LLOT+/4fIsnfgkCyV1vPWZpk0FHnA7qlwXDv4A5AHTMhq66sX4jDdiEHuCEiOlHDWo2lEV+LmLrTDSdxlQ9GRRINh3GhCJz9RMcWv9+3uMYn7uo18pClAH2lyT9AUcu9p9HSIH5uOho2zEFKEYsPMCKrbdIJ9o2ozVSAKINEKO7j8PAFo12MXWMMFZ4gat0LlGsTnjzHifzbYCLmhU7ykv+derEcO2iTlevVPdHB54z7XZ+aD8B/bXMTsErtTOYPS00jdIRl3Wg6z8n4VMn3J4D58jMWkHzYpKC4SryGoNVmuGME0Sxpg37yc9lFnlkRUAJ1J1mYHanJAfvCAc2Zt+KQffsCjCs9bBR0DDOD5ATNl4znSbQ6DQMfxXoO/yyj7fzRivGWbaBWsduTfH0EcLvLYv/zBUB0elBJgb1/uiTaqPOEYSdEmc6sYzS0G2EYvh1Rj21hNVM2ki5+PgYFzPsEEUg1yl1Dg81/7S4h8vFbWrHg5xZGw8smLQikkHB07h2A6ScowKx6CY6WaN9IVKVBAkgAq2GNW2WSMGyAGtIjHa1LbYoHQE1H/6LZOp0KdUIAGJc6thnlLLQdV5RqUrMZATdtJmZc6XSwmxPY4UF4hiVSprRXlLHfF9YKkaoasXBCUEAX5IJbYtaFtrKFzkrsgY4TnL7IADFn7Fc3S4VC8GXwCFUgETEAAAAjQZokbEM//p4QAHn9kDl5llc94+ZYlgvmWTYOCkee7iq2yc4AAAATQZ5CeIX/ABLeJVTMfMRFIMJlCwAAAA8BnmF0Qr8AEN9KeB0ynIsAAAAQAZ5jakK/ABnHbhNxn16hzQAAABlBmmVJqEFomUwIZ//+nhAAvshjn6MB2aE/AAAAGUGahknhClJlMCG//qeEAEtQBZtiANIaqkEAAAAZQZqnSeEOiZTAhv/+p4QAc84z/Ujo0hqDwQAAABlBmshJ4Q8mUwId//6plgBbfkGZ94m+7TZQAAAAK0Ga7EnhDyZTAhv//qeEBleBK5zLK57x+BSpbPwKZ2BbDbqp7p4gtCK2zZQAAAAWQZ8KRRE8L/8BlZ+V4/n0WLg2FjjDwQAAABABnyl0Qr8A3MmhE+LMUa6YAAAAEAGfK2pCvwIe7S6B+P4aZUAAAAAYQZstSahBaJlMCHf//qmWAyJXoyAtFCJ3AAAAHUGbUUnhClJlMCHf/qmWAuXJL5pp1OhULIUvG1tBAAAAEEGfb0U0TC//AYeNa2MILiEAAAAQAZ+OdEK/Agqa0ZJYnV2ggAAAAA8Bn5BqQr8BUVGiakpsxYAAAAAeQZuVSahBaJlMCG///qeEAbLMrjObdPMssTI7i4b1AAAAEEGfs0URLC//AO0nUb2CJ8wAAAAPAZ/SdEK/AfogDoRkudfAAAAAEAGf1GpCvwFRpRvNMVbRwsEAAAAaQZvWSahBbJlMCHf//qmWAIT1bIbYg3dQZUAAAAAYQZv6SeEKUmUwId/+qZYAN98QgH9/VuThAAAADkGeGEU0TC//AEFoANFhAAAAEAGeN3RCvwCJKkd+AD7dc0AAAAAQAZ45akK/AIkqR3s8fbrmgQAAABNBmj5JqEFomUwId//+qZYAAJWAAAAADEGeXEURLC//AACygQAAABABnnt0Qr8AiSpHfgA+3XNBAAAAEAGefWpCvwCJKkd7PH265oAAAABHQZpiSahBbJlMCG///qeEAKz7qfuCnHTSj//EJLDFw21DRhKxLiRLCb//4gdaOGticIUxRdU///EIOpPDaiPoSV0mQOtx0kAAAAAQQZ6ARRUsL/8AZxVz0UOpmQAAAA8Bnr90Qr8AitoxcB+WpMAAAAAQAZ6hakK/AIrK5FXgCf07gQAAABpBmqNJqEFsmUwId//+qZYAN5UgzPvE4/qh8AAAABJBmsdJ4QpSZTAh3/6plgAAlYEAAAAMQZ7lRTRML/8AALKBAAAAEAGfBHRCvwCLCAOf1oHJDsEAAAAQAZ8GakK/AIra13WQw5IdgQAAABNBmwtJqEFomUwId//+qZYAAJWAAAAADEGfKUURLC//AACygAAAABABn0h0Qr8AiwgDn9aByQ7BAAAAEAGfSmpCvwCK2td1kMOSHYAAAAATQZtPSahBbJlMCHf//qmWAACVgAAAAAxBn21FFSwv/wAAsoEAAAAQAZ+MdEK/AIsIA5/WgckOwQAAABABn45qQr8AitrXdZDDkh2BAAAAE0Gbk0moQWyZTAh3//6plgAAlYAAAAAMQZ+xRRUsL/8AALKAAAAAEAGf0HRCvwCLCAOf1oHJDsEAAAAQAZ/SakK/AIra13WQw5IdgAAAABNBm9dJqEFsmUwId//+qZYAAJWAAAAADEGf9UUVLC//AACygQAAABABnhR0Qr8AiwgDn9aByQ7AAAAAEAGeFmpCvwCK2td1kMOSHYEAAAATQZobSahBbJlMCHf//qmWAACVgQAAAAxBnjlFFSwv/wAAsoAAAAAQAZ5YdEK/AIsIA5/WgckOwQAAABABnlpqQr8AitrXdZDDkh2AAAAAEkGaX0moQWyZTAhv//6nhAABJwAAAAxBnn1FFSwv/wAAsoEAAAAQAZ6cdEK/AIsIA5/WgckOwAAAABABnp5qQr8AitrXdZDDkh2AAAAAEkGag0moQWyZTAhv//6nhAABJwAAAAxBnqFFFSwv/wAAsoAAAAAQAZ7AdEK/AIsIA5/WgckOwQAAABABnsJqQr8AitrXdZDDkh2AAAAAGUGaxEmoQWyZTAhv//6nhABu/YPXsz4IrzcAAAAbQZrlSeEKUmUwId/+qZYANp8QgH9/O6QphE1JAAAAHUGbCUnhDomUwIb//qeEAQX4c+ZZYmR3GB+tLZThAAAAEkGfJ0URPC//AJ9QGnXmFWH5zQAAAA8Bn0Z0Qr8AWvMncGyXjbUAAAAQAZ9IakK/ANe7Ucr+3D6HwAAAABpBm0pJqEFomUwId//+qZYAhPVshtiDd1BlQQAAABJBm25J4QpSZTAh3/6plgAAlYAAAAAMQZ+MRTRML/8AALKAAAAAEAGfq3RCvwCJKkd+AD7dc0EAAAAQAZ+takK/ANelbF6uw5HlwQAAABNBm7JJqEFomUwId//+qZYAAJWBAAAADEGf0EURLC//AACygAAAABABn+90Qr8AiSpHfgA+3XNAAAAAEAGf8WpCvwDXpWxersOR5cEAAAATQZv2SahBbJlMCHf//qmWAACVgAAAAAxBnhRFFSwv/wAAsoAAAAAQAZ4zdEK/AIkqR34APt1zQQAAABABnjVqQr8A16VsXq7DkeXAAAAAE0GaOkmoQWyZTAh3//6plgAAlYEAAAAMQZ5YRRUsL/8AALKBAAAAEAGed3RCvwCJKkd+AD7dc0AAAAAQAZ55akK/ANelbF6uw5HlwQAAABNBmn5JqEFsmUwId//+qZYAAJWAAAAADEGenEUVLC//AACygQAAABABnrt0Qr8AiSpHfgA+3XNBAAAAEAGevWpCvwDXpWxersOR5cAAAAAkQZqiSahBbJlMCHf//qmWANP4FYOZZXidHKNeEwM5kYgD8NtAAAAAFkGewEUVLC//AOenUY3uVyIveZDMh00AAAAQAZ7/dEK/ANLJoRPizFGvSAAAABABnuFqQr8BP7IhNxn16apJAAAALkGa5kmoQWyZTAhv//6nhARLsx9a/Amv4q0PfLNOieBTX1AtwKVLJuBTOwJPQtIAAAAVQZ8ERRUsL/8BZPXHt7YVEatrndHdAAAAEAGfI3RCvwHsaVi2NiCiW9EAAAAQAZ8lakK/Ad6y/VHzH4tjQQAAABxBmydJqEFsmUwId//+qZYAxHkdBDOlnR1LsmfBAAAAHEGbS0nhClJlMCHf/qmWAfUz5/Ki0/9blVO+KvgAAAAQQZ9pRTRML/8BW1Sb8LLJeAAAAA8Bn4h0Qr8BxrFYwhVp1UEAAAAQAZ+KakK/AdIfhDxoaxiqgAAAABNBm49JqEFomUwId//+qZYAAJWAAAAADEGfrUURLC//AACygQAAABABn8x0Qr8BzEgG/AB9ukTBAAAAEAGfzmpCvwHMSAb2ePt0iYEAAAATQZvTSahBbJlMCHf//qmWAACVgAAAAAxBn/FFFSwv/wAAsoAAAAAQAZ4QdEK/AcxIBvwAfbpEwQAAABABnhJqQr8BzEgG9nj7dImAAAAAE0GaF0moQWyZTAh3//6plgAAlYAAAAAMQZ41RRUsL/8AALKBAAAAEAGeVHRCvwHMSAb8AH26RMAAAAAQAZ5WakK/AcxIBvZ4+3SJgQAAABNBmltJqEFsmUwId//+qZYAAJWBAAAADEGeeUUVLC//AACygAAAABABnph0Qr8BzEgG/AB9ukTBAAAAEAGemmpCvwHMSAb2ePt0iYAAAAATQZqfSahBbJlMCHf//qmWAACVgQAAAAxBnr1FFSwv/wAAsoEAAAAQAZ7cdEK/AcxIBvwAfbpEwAAAABABnt5qQr8BzEgG9nj7dImAAAAAE0Gaw0moQWyZTAh3//6plgAAlYEAAAAMQZ7hRRUsL/8AALKAAAAAEAGfAHRCvwHMSAb8AH26RMEAAAAQAZ8CakK/AcxIBvZ4+3SJgAAAABNBmwdJqEFsmUwId//+qZYAAJWBAAAADEGfJUUVLC//AACygQAAABABn0R0Qr8BzEgG/AB9ukTBAAAAEAGfRmpCvwHMSAb2ePt0iYEAAAATQZtLSahBbJlMCHf//qmWAACVgAAAAAxBn2lFFSwv/wAAsoAAAAAQAZ+IdEK/AcxIBvwAfbpEwQAAABABn4pqQr8BzEgG9nj7dImAAAAAE0Gbj0moQWyZTAh3//6plgAAlYAAAAAMQZ+tRRUsL/8AALKBAAAAEAGfzHRCvwHMSAb8AH26RMEAAAAQAZ/OakK/AcxIBvZ4+3SJgQAAABNBm9NJqEFsmUwId//+qZYAAJWAAAAADEGf8UUVLC//AACygAAAABABnhB0Qr8BzEgG/AB9ukTBAAAAEAGeEmpCvwHMSAb2ePt0iYAAAAATQZoXSahBbJlMCHf//qmWAACVgAAAAAxBnjVFFSwv/wAAsoEAAAAQAZ5UdEK/AcxIBvwAfbpEwAAAABABnlZqQr8BzEgG9nj7dImBAAAAE0GaW0moQWyZTAh3//6plgAAlYEAAAAMQZ55RRUsL/8AALKAAAAAEAGemHRCvwHMSAb8AH26RMEAAAAQAZ6aakK/AcxIBvZ4+3SJgAAAABNBmp9JqEFsmUwId//+qZYAAJWBAAAADEGevUUVLC//AACygQAAABABntx0Qr8BzEgG/AB9ukTAAAAAEAGe3mpCvwHMSAb2ePt0iYAAAAATQZrDSahBbJlMCHf//qmWAACVgQAAAAxBnuFFFSwv/wAAsoAAAAAQAZ8AdEK/AcxIBvwAfbpEwQAAAA8BnwJqQr8B32Id6ZdfFJAAAAATQZsHSahBbJlMCHf//qmWAACVgQAAAAxBnyVFFSwv/wAAsoEAAAAQAZ9EdEK/AcxIBvwAfbpEwQAAABABn0ZqQr8BzEgG9nj7dImBAAAAE0GbS0moQWyZTAh3//6plgAAlYAAAAAMQZ9pRRUsL/8AALKAAAAAEAGfiHRCvwHMSAb8AH26RMEAAAAQAZ+KakK/AcxIBvZ4+3SJgAAAABNBm49JqEFsmUwId//+qZYAAJWAAAAADEGfrUUVLC//AACygQAAABABn8x0Qr8BzEgG/AB9ukTBAAAAEAGfzmpCvwHMSAb2ePt0iYEAAAATQZvTSahBbJlMCHf//qmWAACVgAAAAAxBn/FFFSwv/wAAsoAAAAAQAZ4QdEK/AcxIBvwAfbpEwQAAABABnhJqQr8BzEgG9nj7dImAAAAAE0GaF0moQWyZTAh3//6plgAAlYAAAAAMQZ41RRUsL/8AALKBAAAAEAGeVHRCvwHMSAb8AH26RMAAAAAQAZ5WakK/AcxIBvZ4+3SJgQAAABNBmltJqEFsmUwId//+qZYAAJWBAAAADEGeeUUVLC//AACygAAAABABnph0Qr8BzEgG/AB9ukTBAAAAEAGemmpCvwHMSAb2ePt0iYAAAAASQZqfSahBbJlMCG///qeEAAEnAAAADEGevUUVLC//AACygQAAABABntx0Qr8BzEgG/AB9ukTAAAAAEAGe3mpCvwHMSAb2ePt0iYAAAAASQZrDSahBbJlMCG///qeEAAEnAAAADEGe4UUVLC//AACygAAAABABnwB0Qr8BzEgG/AB9ukTBAAAAEAGfAmpCvwHMSAb2ePt0iYAAAAASQZsHSahBbJlMCGf//p4QAAR9AAAADEGfJUUVLC//AACygQAAABABn0R0Qr8BzEgG/AB9ukTBAAAAEAGfRmpCvwHMSAb2ePt0iYEAAAAbQZtJS6hCEFskRggoB/IB/YeAUTCv/jhAABFwAAAAJAGfaGpCvwKvY+1BxN2qw8ykcmzpiI+Hvz2d9a3b9s9/yfB5gAAADGltb292AAAAbG12aGQAAAAAAAAAAAAAAAAAAAPoAAAfkAABAAABAAAAAAAAAAAAAAAAAQAAAAAAAAAAAAAAAAAAAAEAAAAAAAAAAAAAAAAAAEAAAAAAAAAAAAAAAAAAAAAAAAAAAAAAAAAAAAAAAAACAAALk3RyYWsAAABcdGtoZAAAAAMAAAAAAAAAAAAAAAEAAAAAAAAfkAAAAAAAAAAAAAAAAAAAAAAAAQAAAAAAAAAAAAAAAAAAAAEAAAAAAAAAAAAAAAAAAEAAAAABEAAAARAAAAAAACRlZHRzAAAAHGVsc3QAAAAAAAAAAQAAH5AAAAQAAAEAAAAACwttZGlhAAAAIG1kaGQAAAAAAAAAAAAAAAAAADIAAAGUAFXEAAAAAAAtaGRscgAAAAAAAAAAdmlkZQAAAAAAAAAAAAAAAFZpZGVvSGFuZGxlcgAAAAq2bWluZgAAABR2bWhkAAAAAQAAAAAAAAAAAAAAJGRpbmYAAAAcZHJlZgAAAAAAAAABAAAADHVybCAAAAABAAAKdnN0YmwAAACWc3RzZAAAAAAAAAABAAAAhmF2YzEAAAAAAAAAAQAAAAAAAAAAAAAAAAAAAAABEAEQAEgAAABIAAAAAAAAAAEAAAAAAAAAAAAAAAAAAAAAAAAAAAAAAAAAAAAAAAAAAAAY//8AAAAwYXZjQwH0AA3/4QAXZ/QADZGbKCIR0IAAAAMAgAAAGQeKFMsBAAZo6+PESEQAAAAYc3R0cwAAAAAAAAABAAAAygAAAgAAAAAUc3RzcwAAAAAAAAABAAAAAQAABkBjdHRzAAAAAAAAAMYAAAABAAAEAAAAAAEAAAoAAAAAAQAABAAAAAABAAAAAAAAAAEAAAIAAAAABAAABAAAAAABAAAKAAAAAAEAAAQAAAAAAQAAAAAAAAABAAACAAAAAAEAAAQAAAAAAQAACgAAAAABAAAEAAAAAAEAAAAAAAAAAQAAAgAAAAABAAAKAAAAAAEAAAQAAAAAAQAAAAAAAAABAAACAAAAAAEAAAQAAAAAAQAACgAAAAABAAAEAAAAAAEAAAAAAAAAAQAAAgAAAAABAAAKAAAAAAEAAAQAAAAAAQAAAAAAAAABAAACAAAAAAEAAAoAAAAAAQAABAAAAAABAAAAAAAAAAEAAAIAAAAAAQAABAAAAAABAAAKAAAAAAEAAAQAAAAAAQAAAAAAAAABAAACAAAAAAEAAAoAAAAAAQAABAAAAAABAAAAAAAAAAEAAAIAAAAAAQAACgAAAAABAAAEAAAAAAEAAAAAAAAAAQAAAgAAAAABAAAKAAAAAAEAAAQAAAAAAQAAAAAAAAABAAACAAAAAAEAAAoAAAAAAQAABAAAAAABAAAAAAAAAAEAAAIAAAAAAQAACgAAAAABAAAEAAAAAAEAAAAAAAAAAQAAAgAAAAABAAAKAAAAAAEAAAQAAAAAAQAAAAAAAAABAAACAAAAAAEAAAoAAAAAAQAABAAAAAABAAAAAAAAAAEAAAIAAAAAAgAABAAAAAABAAAKAAAAAAEAAAQAAAAAAQAAAAAAAAABAAACAAAAAAEAAAQAAAAAAQAACgAAAAABAAAEAAAAAAEAAAAAAAAAAQAAAgAAAAABAAAKAAAAAAEAAAQAAAAAAQAAAAAAAAABAAACAAAAAAEAAAoAAAAAAQAABAAAAAABAAAAAAAAAAEAAAIAAAAAAQAACgAAAAABAAAEAAAAAAEAAAAAAAAAAQAAAgAAAAABAAAKAAAAAAEAAAQAAAAAAQAAAAAAAAABAAACAAAAAAEAAAoAAAAAAQAABAAAAAABAAAAAAAAAAEAAAIAAAAAAQAACgAAAAABAAAEAAAAAAEAAAAAAAAAAQAAAgAAAAABAAAEAAAAAAEAAAoAAAAAAQAABAAAAAABAAAAAAAAAAEAAAIAAAAAAQAACgAAAAABAAAEAAAAAAEAAAAAAAAAAQAAAgAAAAABAAAKAAAAAAEAAAQAAAAAAQAAAAAAAAABAAACAAAAAAEAAAoAAAAAAQAABAAAAAABAAAAAAAAAAEAAAIAAAAAAQAACgAAAAABAAAEAAAAAAEAAAAAAAAAAQAAAgAAAAABAAAKAAAAAAEAAAQAAAAAAQAAAAAAAAABAAACAAAAAAEAAAoAAAAAAQAABAAAAAABAAAAAAAAAAEAAAIAAAAAAQAACgAAAAABAAAEAAAAAAEAAAAAAAAAAQAAAgAAAAABAAAKAAAAAAEAAAQAAAAAAQAAAAAAAAABAAACAAAAAAEAAAoAAAAAAQAABAAAAAABAAAAAAAAAAEAAAIAAAAAAQAACgAAAAABAAAEAAAAAAEAAAAAAAAAAQAAAgAAAAABAAAKAAAAAAEAAAQAAAAAAQAAAAAAAAABAAACAAAAAAEAAAoAAAAAAQAABAAAAAABAAAAAAAAAAEAAAIAAAAAAQAACgAAAAABAAAEAAAAAAEAAAAAAAAAAQAAAgAAAAABAAAKAAAAAAEAAAQAAAAAAQAAAAAAAAABAAACAAAAAAEAAAoAAAAAAQAABAAAAAABAAAAAAAAAAEAAAIAAAAAAQAACgAAAAABAAAEAAAAAAEAAAAAAAAAAQAAAgAAAAABAAAKAAAAAAEAAAQAAAAAAQAAAAAAAAABAAACAAAAAAEAAAoAAAAAAQAABAAAAAABAAAAAAAAAAEAAAIAAAAAAQAACgAAAAABAAAEAAAAAAEAAAAAAAAAAQAAAgAAAAABAAAKAAAAAAEAAAQAAAAAAQAAAAAAAAABAAACAAAAAAEAAAoAAAAAAQAABAAAAAABAAAAAAAAAAEAAAIAAAAAAQAACgAAAAABAAAEAAAAAAEAAAAAAAAAAQAAAgAAAAABAAAKAAAAAAEAAAQAAAAAAQAAAAAAAAABAAACAAAAAAEAAAYAAAAAAQAAAgAAAAAcc3RzYwAAAAAAAAABAAAAAQAAAMoAAAABAAADPHN0c3oAAAAAAAAAAAAAAMoAAAWcAAAAJwAAABcAAAATAAAAFAAAAB0AAAAdAAAAHQAAAB0AAAAvAAAAGgAAABQAAAAUAAAAHAAAACEAAAAUAAAAFAAAABMAAAAiAAAAFAAAABMAAAAUAAAAHgAAABwAAAASAAAAFAAAABQAAAAXAAAAEAAAABQAAAAUAAAASwAAABQAAAATAAAAFAAAAB4AAAAWAAAAEAAAABQAAAAUAAAAFwAAABAAAAAUAAAAFAAAABcAAAAQAAAAFAAAABQAAAAXAAAAEAAAABQAAAAUAAAAFwAAABAAAAAUAAAAFAAAABcAAAAQAAAAFAAAABQAAAAWAAAAEAAAABQAAAAUAAAAFgAAABAAAAAUAAAAFAAAAB0AAAAfAAAAIQAAABYAAAATAAAAFAAAAB4AAAAWAAAAEAAAABQAAAAUAAAAFwAAABAAAAAUAAAAFAAAABcAAAAQAAAAFAAAABQAAAAXAAAAEAAAABQAAAAUAAAAFwAAABAAAAAUAAAAFAAAACgAAAAaAAAAFAAAABQAAAAyAAAAGQAAABQAAAAUAAAAIAAAACAAAAAUAAAAEwAAABQAAAAXAAAAEAAAABQAAAAUAAAAFwAAABAAAAAUAAAAFAAAABcAAAAQAAAAFAAAABQAAAAXAAAAEAAAABQAAAAUAAAAFwAAABAAAAAUAAAAFAAAABcAAAAQAAAAFAAAABQAAAAXAAAAEAAAABQAAAAUAAAAFwAAABAAAAAUAAAAFAAAABcAAAAQAAAAFAAAABQAAAAXAAAAEAAAABQAAAAUAAAAFwAAABAAAAAUAAAAFAAAABcAAAAQAAAAFAAAABQAAAAXAAAAEAAAABQAAAAUAAAAFwAAABAAAAAUAAAAEwAAABcAAAAQAAAAFAAAABQAAAAXAAAAEAAAABQAAAAUAAAAFwAAABAAAAAUAAAAFAAAABcAAAAQAAAAFAAAABQAAAAXAAAAEAAAABQAAAAUAAAAFwAAABAAAAAUAAAAFAAAABYAAAAQAAAAFAAAABQAAAAWAAAAEAAAABQAAAAUAAAAFgAAABAAAAAUAAAAFAAAAB8AAAAoAAAAFHN0Y28AAAAAAAAAAQAAADAAAABidWR0YQAAAFptZXRhAAAAAAAAACFoZGxyAAAAAAAAAABtZGlyYXBwbAAAAAAAAAAAAAAAAC1pbHN0AAAAJal0b28AAAAdZGF0YQAAAAEAAAAATGF2ZjU2LjQwLjEwMQ==\" type=\"video/mp4\" />\n",
       "             </video>"
      ],
      "text/plain": [
       "<IPython.core.display.HTML object>"
      ]
     },
     "execution_count": 25,
     "metadata": {},
     "output_type": "execute_result"
    }
   ],
   "source": [
    "env = Environment(grid_size=size, max_time=T, temperature=0.5)\n",
    "agent = DQN_CNN(size, lr=.1, epsilon = 0.1, memory_size=2000, batch_size = 32)\n",
    "train(agent,env,epochs_train,prefix='cnn_train')\n",
    "HTML(display_videos('cnn_train10.mp4'))"
   ]
  },
  {
   "cell_type": "markdown",
   "metadata": {},
   "source": [
    "***\n",
    "***\n",
    "__Question 9__ Test both algorithms and compare their performances. Which issue(s) do you observe? Observe also different behaviors by changing the temperature."
   ]
  },
  {
   "cell_type": "code",
   "execution_count": 26,
   "metadata": {},
   "outputs": [
    {
     "name": "stdout",
     "output_type": "stream",
     "text": [
      "Test of the CNN\n",
      "Win/lose count 0/0. Average score (0.0)\n",
      "Win/lose count 2.0/0. Average score (1.0)\n",
      "Win/lose count 0.5/1.0. Average score (0.5)\n",
      "Win/lose count 0.5/1.0. Average score (0.25)\n",
      "Win/lose count 0.5/0. Average score (0.3)\n",
      "Win/lose count 0.5/0. Average score (0.3333333333333333)\n",
      "Win/lose count 1.0/0. Average score (0.42857142857142855)\n",
      "Win/lose count 0.5/0. Average score (0.4375)\n",
      "Win/lose count 2.5/0. Average score (0.6666666666666666)\n",
      "Win/lose count 0/1.0. Average score (0.5)\n",
      "Final score: 0.5\n",
      "Test of the FC\n",
      "Win/lose count 2.0/0. Average score (2.0)\n",
      "Win/lose count 2.0/1.0. Average score (1.5)\n",
      "Win/lose count 2.0/1.0. Average score (1.3333333333333333)\n",
      "Win/lose count 0.5/0. Average score (1.125)\n",
      "Win/lose count 1.0/1.0. Average score (0.9)\n",
      "Win/lose count 1.5/2.0. Average score (0.6666666666666666)\n",
      "Win/lose count 1.5/1.0. Average score (0.6428571428571429)\n",
      "Win/lose count 2.5/1.0. Average score (0.75)\n",
      "Win/lose count 1.0/0. Average score (0.7777777777777778)\n",
      "Win/lose count 0.5/3.0. Average score (0.45)\n",
      "Final score: 0.45\n"
     ]
    }
   ],
   "source": [
    "env = Environment(grid_size=size, max_time=T,temperature=0.5)\n",
    "agent_cnn = DQN_CNN(size, lr=.1, epsilon = 0.1, memory_size=2000, batch_size = 32)\n",
    "agent_cnn.load(name_weights='cnn_trainmodel.h5',name_model='cnn_trainmodel.json')\n",
    "\n",
    "agent_fc = DQN_FC(size, lr=.1, epsilon = 0.1, memory_size=2000, batch_size = 32)\n",
    "agent_cnn.load(name_weights='fc_trainmodel.h5',name_model='fc_trainmodel.json')\n",
    "print('Test of the CNN')\n",
    "test(agent_cnn,env,epochs_test,prefix='cnn_test')\n",
    "print('Test of the FC')\n",
    "test(agent_fc,env,epochs_test,prefix='fc_test')"
   ]
  },
  {
   "cell_type": "code",
   "execution_count": 27,
   "metadata": {},
   "outputs": [
    {
     "data": {
      "text/html": [
       "<video alt=\"test\" controls>\n",
       "                <source src=\"data:video/mp4;base64,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\" type=\"video/mp4\" />\n",
       "             </video>"
      ],
      "text/plain": [
       "<IPython.core.display.HTML object>"
      ]
     },
     "execution_count": 27,
     "metadata": {},
     "output_type": "execute_result"
    }
   ],
   "source": [
    "HTML(display_videos('cnn_test10.mp4'))"
   ]
  },
  {
   "cell_type": "code",
   "execution_count": 28,
   "metadata": {},
   "outputs": [
    {
     "data": {
      "text/html": [
       "<video alt=\"test\" controls>\n",
       "                <source src=\"data:video/mp4;base64,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\" type=\"video/mp4\" />\n",
       "             </video>"
      ],
      "text/plain": [
       "<IPython.core.display.HTML object>"
      ]
     },
     "execution_count": 28,
     "metadata": {},
     "output_type": "execute_result"
    }
   ],
   "source": [
    "HTML(display_videos('fc_test10.mp4'))"
   ]
  },
  {
   "cell_type": "markdown",
   "metadata": {},
   "source": [
    "I observe that The agent tends to not explore the map, which can be problematic for both methods. \n",
    "The temperature impacte the distribution of malus and bonus in the map, if the temperature increases the number of bonus increases and the number of malus decreases, than is more easy for the agent to perform better scroe."
   ]
  },
  {
   "cell_type": "markdown",
   "metadata": {},
   "source": [
    "***\n",
    "\n",
    "The algorithm tends to not explore the map which can be an issue. We propose two ideas in order to encourage exploration:\n",
    "1. Incorporating a decreasing $\\epsilon$-greedy exploration. You can use the method ```set_epsilon```\n",
    "2. Append via the environment a new state that describes if a cell has been visited or not\n",
    "\n",
    "***\n",
    "__Question 10__ Design a new ```train_explore``` function and environment class ```EnvironmentExploring``` to tackle the issue of exploration.\n",
    "\n"
   ]
  },
  {
   "cell_type": "code",
   "execution_count": 29,
   "metadata": {},
   "outputs": [],
   "source": [
    "def train_explore(agent,env,epoch,prefix=''):\n",
    "    # Number of won games\n",
    "    score = 0\n",
    "    loss = 0\n",
    "\n",
    "    for e in range(epoch):\n",
    "        # At each epoch, we restart to a fresh game and get the initial state\n",
    "        state = env.reset()\n",
    "        # This assumes that the games will terminate\n",
    "        game_over = False\n",
    "\n",
    "        win = 0\n",
    "        lose = 0\n",
    "        while not game_over:\n",
    "            # The agent performs an action\n",
    "            action = agent.act(state)\n",
    "            # Apply an action to the environment, get the next state, the reward\n",
    "            # and if the games end\n",
    "            prev_state = state\n",
    "            state, reward, game_over = env.act(action)\n",
    "            # Update the counters\n",
    "            if reward > 0:\n",
    "                win = win + reward\n",
    "            if reward < -0.1:\n",
    "                lose = lose -reward\n",
    "            # Apply the reinforcement strategy\n",
    "            loss = agent.reinforce(prev_state, state,  action, reward, game_over)\n",
    "\n",
    "        # Save as a mp4\n",
    "        if e % 10 == 0:\n",
    "            env.draw(prefix+str(e))\n",
    "\n",
    "        # Update stats\n",
    "        score += win-lose\n",
    "\n",
    "        print(\"Epoch {:03d}/{:03d} | Loss {:.4f} | Win/lose count {}/{} ({})\"\n",
    "              .format(e, epoch, loss, win, lose, win-lose))\n",
    "        agent.save(name_weights=prefix+'model.h5',name_model=prefix+'model.json')\n",
    "def test_explore(agent,env,epochs,prefix=''):\n",
    "    # Number of won games\n",
    "    score = 0\n",
    "        \n",
    "    for e in range(epochs):\n",
    "        # To assume that the games will end\n",
    "        Play = True\n",
    "        # At each epoch, we restart to a fresh game and get the initial state\n",
    "        state = env.reset()\n",
    "        \n",
    "        win = 0\n",
    "        lose = 0\n",
    "        \n",
    "        while Play:\n",
    "            # The agent chosses an action\n",
    "            next_action = agent.learned_act(state)\n",
    "            # Apply this action to the environment\n",
    "            # than get the next state and the reward\n",
    "            # and if the games end\n",
    "            last = state\n",
    "            state, reward, game_over = env.act(next_action)\n",
    "            Play = not game_over\n",
    "            # Update the counters\n",
    "            if reward > 0:\n",
    "                win = win + reward\n",
    "            if reward < 0:\n",
    "                lose = lose -reward\n",
    "            # Apply the reinforcement strategy\n",
    "            loss = agent.reinforce(last, state,  next_action, reward, game_over)\n",
    "        # Save as a mp4\n",
    "        env.draw(prefix+str(e))\n",
    "\n",
    "        # Update stats\n",
    "        score = score + win-lose\n",
    "\n",
    "        print(\"Win/lose count {}/{}. Average score ({})\"\n",
    "              .format(win, lose, score/(1+e)))\n",
    "    print('Final score: '+str(score/epochs))\n",
    "        \n",
    "class EnvironmentExploring(object):\n",
    "    def __init__(self, grid_size=10, max_time=500, temperature=0.1):\n",
    "        grid_size = grid_size+4\n",
    "        self.grid_size = grid_size\n",
    "        self.max_time = max_time\n",
    "        self.temperature = temperature\n",
    "\n",
    "        #board on which one plays\n",
    "        self.board = np.zeros((grid_size,grid_size))\n",
    "        self.position = np.zeros((grid_size,grid_size))\n",
    "\n",
    "        # coordinate of the cat\n",
    "        self.x = 0\n",
    "        self.y = 1\n",
    "\n",
    "        # self time\n",
    "        self.t = 0\n",
    "\n",
    "        self.scale=16\n",
    "\n",
    "        self.to_draw = np.zeros((max_time+2, grid_size*self.scale, grid_size*self.scale, 3))\n",
    "        \n",
    "        self.malus_position = np.zeros((grid_size,grid_size))\n",
    "\n",
    "    def draw(self,e):\n",
    "        skvideo.io.vwrite(str(e) + '.mp4', self.to_draw)\n",
    "\n",
    "    def get_frame(self,t):\n",
    "        b = np.zeros((self.grid_size,self.grid_size,3))+128\n",
    "        b[self.board>0,0] = 256\n",
    "        b[self.board < 0, 2] = 256\n",
    "        b[self.x,self.y,:]=256\n",
    "        b[-2:,:,:]=0\n",
    "        b[:,-2:,:]=0\n",
    "        b[:2,:,:]=0\n",
    "        b[:,:2,:]=0\n",
    "        \n",
    "        b =  cv2.resize(b, None, fx=self.scale, fy=self.scale, interpolation=cv2.INTER_NEAREST)\n",
    "\n",
    "        self.to_draw[t,:,:,:]=b\n",
    "\n",
    "\n",
    "    def act(self, action):\n",
    "        \"\"\"This function returns the new state, reward and decides if the\n",
    "        game ends.\"\"\"\n",
    "\n",
    "        self.get_frame(int(self.t))\n",
    "\n",
    "        self.position = np.zeros((self.grid_size, self.grid_size))\n",
    "\n",
    "        self.position[0:2,:]= -1\n",
    "        self.position[:,0:2] = -1\n",
    "        self.position[-2:, :] = -1\n",
    "        self.position[:, -2:] = -1\n",
    "\n",
    "        self.position[self.x, self.y] = 1\n",
    "        if action == 0:\n",
    "            if self.x == self.grid_size-3:\n",
    "                self.x = self.x-1\n",
    "            else:\n",
    "                self.x = self.x + 1\n",
    "        elif action == 1:\n",
    "            if self.x == 2:\n",
    "                self.x = self.x+1\n",
    "            else:\n",
    "                self.x = self.x-1\n",
    "        elif action == 2:\n",
    "            if self.y == self.grid_size - 3:\n",
    "                self.y = self.y - 1\n",
    "            else:\n",
    "                self.y = self.y + 1\n",
    "        elif action == 3:\n",
    "            if self.y == 2:\n",
    "                self.y = self.y + 1\n",
    "            else:\n",
    "                self.y = self.y - 1\n",
    "        else:\n",
    "            RuntimeError('Error: action not recognized')\n",
    "\n",
    "        self.t = self.t + 1\n",
    "        reward = self.board[self.x, self.y]\n",
    "        reward -= self.malus_position[self.x, self.y]\n",
    "        self.board[self.x, self.y] = 0\n",
    "        self.malus_position[self.x, self.y] = 0.1\n",
    "        game_over = self.t > self.max_time\n",
    "        # 3 \"feature\" states instead of 2\n",
    "        state = np.concatenate((self.board.reshape(self.grid_size, self.grid_size,1),\n",
    "                        self.position.reshape(self.grid_size, self.grid_size,1),\n",
    "                        self.malus_position.reshape(self.grid_size, self.grid_size,1)),axis=2)\n",
    "        state = state[self.x-2:self.x+3,self.y-2:self.y+3,:]\n",
    "        return state, reward, game_over\n",
    "\n",
    "    def reset(self):\n",
    "        \"\"\"This function resets the game and returns the initial state\"\"\"\n",
    "    \n",
    "        self.x = np.random.randint(3, self.grid_size-3, size=1)[0]\n",
    "        self.y = np.random.randint(3, self.grid_size-3, size=1)[0]\n",
    "\n",
    "\n",
    "        bonus = 0.5*np.random.binomial(1,self.temperature,size=self.grid_size**2)\n",
    "        bonus = bonus.reshape(self.grid_size,self.grid_size)\n",
    "\n",
    "        malus = -1.0*np.random.binomial(1,self.temperature,size=self.grid_size**2)\n",
    "        malus = malus.reshape(self.grid_size, self.grid_size)\n",
    "\n",
    "        self.to_draw = np.zeros((self.max_time+2, self.grid_size*self.scale, self.grid_size*self.scale, 3))\n",
    "\n",
    "\n",
    "        malus[bonus>0]=0\n",
    "\n",
    "        self.board = bonus + malus\n",
    "\n",
    "        self.position = np.zeros((self.grid_size, self.grid_size))\n",
    "        self.position[0:2,:]= -1\n",
    "        self.position[:,0:2] = -1\n",
    "        self.position[-2:, :] = -1\n",
    "        self.position[:, -2:] = -1\n",
    "        self.board[self.x,self.y] = 0\n",
    "        self.t = 0\n",
    "\n",
    "        state = np.concatenate((self.board.reshape(self.grid_size, self.grid_size,1),\n",
    "                        self.position.reshape(self.grid_size, self.grid_size,1),\n",
    "                        self.malus_position.reshape(self.grid_size, self.grid_size,1)),axis=2)\n",
    "        state = state[self.x-2:self.x+3,self.y-2:self.y+3,:]\n",
    "\n",
    "        return state"
   ]
  },
  {
   "cell_type": "code",
   "execution_count": 31,
   "metadata": {},
   "outputs": [
    {
     "name": "stdout",
     "output_type": "stream",
     "text": [
      "Epoch 000/030 | Loss 0.0062 | Win/lose count 9.5/5.0 (4.5)\n",
      "Epoch 001/030 | Loss 0.0154 | Win/lose count 8.5/10.0 (-1.5)\n",
      "Epoch 002/030 | Loss 0.0280 | Win/lose count 10.200000000000001/7.1 (3.1000000000000014)\n",
      "Epoch 003/030 | Loss 0.0253 | Win/lose count 5.5/7.5 (-2.0)\n",
      "Epoch 004/030 | Loss 0.0105 | Win/lose count 2.5/10.899999999999999 (-8.399999999999999)\n",
      "Epoch 005/030 | Loss 0.0252 | Win/lose count 11.100000000000005/9.7 (1.4000000000000057)\n",
      "Epoch 006/030 | Loss 0.0071 | Win/lose count 4.3999999999999995/11.999999999999998 (-7.599999999999999)\n",
      "Epoch 007/030 | Loss 0.0304 | Win/lose count 1.2000000000000002/4.4 (-3.2)\n",
      "Epoch 008/030 | Loss 0.0249 | Win/lose count 7.600000000000001/5.4 (2.200000000000001)\n",
      "Epoch 009/030 | Loss 0.0156 | Win/lose count 8.400000000000002/7.699999999999999 (0.7000000000000028)\n",
      "Epoch 010/030 | Loss 0.0118 | Win/lose count 4.2/8.799999999999999 (-4.599999999999999)\n",
      "Epoch 011/030 | Loss 0.0073 | Win/lose count 8.800000000000002/5.5 (3.3000000000000025)\n",
      "Epoch 012/030 | Loss 0.0161 | Win/lose count 5.800000000000001/5.4 (0.40000000000000036)\n",
      "Epoch 013/030 | Loss 0.0328 | Win/lose count 8.400000000000004/9.799999999999999 (-1.399999999999995)\n",
      "Epoch 014/030 | Loss 0.0388 | Win/lose count 6.800000000000002/10.899999999999999 (-4.099999999999997)\n",
      "Epoch 015/030 | Loss 0.0106 | Win/lose count 7.200000000000002/10.899999999999999 (-3.6999999999999966)\n",
      "Epoch 016/030 | Loss 0.0209 | Win/lose count 8.900000000000004/7.6 (1.3000000000000043)\n",
      "Epoch 017/030 | Loss 0.0235 | Win/lose count 2.4/5.5 (-3.1)\n",
      "Epoch 018/030 | Loss 0.0195 | Win/lose count 7.200000000000002/5.5 (1.700000000000002)\n",
      "Epoch 019/030 | Loss 0.0154 | Win/lose count 7.700000000000002/5.5 (2.200000000000002)\n",
      "Epoch 020/030 | Loss 0.0163 | Win/lose count 9.700000000000003/18.7 (-8.999999999999996)\n",
      "Epoch 021/030 | Loss 0.0309 | Win/lose count 6.100000000000001/7.699999999999999 (-1.5999999999999979)\n",
      "Epoch 022/030 | Loss 0.0174 | Win/lose count 8.600000000000003/7.699999999999999 (0.9000000000000039)\n",
      "Epoch 023/030 | Loss 0.0141 | Win/lose count 6.400000000000001/5.5 (0.9000000000000012)\n",
      "Epoch 024/030 | Loss 0.0145 | Win/lose count 1.2000000000000002/2.2 (-1.0)\n",
      "Epoch 025/030 | Loss 0.0153 | Win/lose count 5.6000000000000005/9.899999999999999 (-4.299999999999998)\n",
      "Epoch 026/030 | Loss 0.0138 | Win/lose count 12.000000000000005/7.699999999999999 (4.300000000000006)\n",
      "Epoch 027/030 | Loss 0.0393 | Win/lose count 6.800000000000002/7.699999999999999 (-0.8999999999999977)\n",
      "Epoch 028/030 | Loss 0.0220 | Win/lose count 3.9999999999999996/8.799999999999999 (-4.799999999999999)\n",
      "Epoch 029/030 | Loss 0.0057 | Win/lose count 5.6000000000000005/14.299999999999997 (-8.699999999999996)\n"
     ]
    },
    {
     "data": {
      "text/html": [
       "<video alt=\"test\" controls>\n",
       "                <source src=\"data:video/mp4;base64,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\" type=\"video/mp4\" />\n",
       "             </video>"
      ],
      "text/plain": [
       "<IPython.core.display.HTML object>"
      ]
     },
     "execution_count": 31,
     "metadata": {},
     "output_type": "execute_result"
    }
   ],
   "source": [
    "# Training\n",
    "env = EnvironmentExploring(grid_size=size, max_time=T, temperature=0.5)\n",
    "agent = DQN_CNN(size, lr=.1, epsilon = 0.2, memory_size=2000, batch_size = 32,n_state=3, input_shape=(5,5,3))\n",
    "train_explore(agent, env, epochs_train, prefix='cnn_train_explore')\n",
    "HTML(display_videos('cnn_train_explore10.mp4'))"
   ]
  },
  {
   "cell_type": "code",
   "execution_count": 32,
   "metadata": {},
   "outputs": [
    {
     "name": "stdout",
     "output_type": "stream",
     "text": [
      "Win/lose count 2.8/24.400000000000084. Average score (-21.600000000000083)\n",
      "Win/lose count 2.4/21.500000000000036. Average score (-20.35000000000006)\n",
      "Win/lose count 0.8/21.90000000000004. Average score (-20.600000000000055)\n",
      "Win/lose count 2.4/21.500000000000043. Average score (-20.22500000000005)\n",
      "Win/lose count 3.1999999999999997/25.200000000000095. Average score (-20.58000000000006)\n",
      "Win/lose count 2.4/26.500000000000096. Average score (-21.166666666666732)\n",
      "Win/lose count 2.4/22.50000000000005. Average score (-21.014285714285773)\n",
      "Win/lose count 1.6/19.70000000000001. Average score (-20.650000000000055)\n",
      "Win/lose count 0/20.100000000000016. Average score (-20.588888888888942)\n",
      "Win/lose count 2.0/21.60000000000004. Average score (-20.49000000000005)\n",
      "Final score: -20.49000000000005\n"
     ]
    },
    {
     "data": {
      "text/html": [
       "<video alt=\"test\" controls>\n",
       "                <source src=\"data:video/mp4;base64,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\" type=\"video/mp4\" />\n",
       "             </video>"
      ],
      "text/plain": [
       "<IPython.core.display.HTML object>"
      ]
     },
     "execution_count": 32,
     "metadata": {},
     "output_type": "execute_result"
    }
   ],
   "source": [
    "# Evaluation\n",
    "test_explore(agent,env,epochs_test,prefix='cnn_test_explore')\n",
    "HTML(display_videos('cnn_test_explore10.mp4'))"
   ]
  },
  {
   "cell_type": "markdown",
   "metadata": {},
   "source": [
    "***\n",
    "***\n",
    "__BONUS question__ Use the expert DQN from the previous question to generate some winning games. Train a model that mimicks its behavior. Compare the performances."
   ]
  },
  {
   "cell_type": "markdown",
   "metadata": {},
   "source": [
    "***"
   ]
  }
 ],
 "metadata": {
  "kernelspec": {
   "display_name": "Python 3",
   "language": "python",
   "name": "python3"
  },
  "language_info": {
   "codemirror_mode": {
    "name": "ipython",
    "version": 3
   },
   "file_extension": ".py",
   "mimetype": "text/x-python",
   "name": "python",
   "nbconvert_exporter": "python",
   "pygments_lexer": "ipython3",
   "version": "3.6.8"
  }
 },
 "nbformat": 4,
 "nbformat_minor": 2
}
